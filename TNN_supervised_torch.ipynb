{
 "cells": [
  {
   "cell_type": "code",
   "execution_count": null,
   "metadata": {},
   "outputs": [],
   "source": [
    "import sys\n",
    "import numpy as np\n",
    "import torch # tested under pytorch 0.4.0\n",
    "import math\n",
    "%matplotlib inline\n",
    "import matplotlib.pyplot as plt\n",
    "\n",
    "torch.manual_seed(1) # Fix seed of the random number generators\n",
    "np.random.seed(1)"
   ]
  },
  {
   "cell_type": "code",
   "execution_count": 2,
   "metadata": {},
   "outputs": [],
   "source": [
    "def show_imgs(imgs,l1=4,l2=5,s1=6,s2=6):\n",
    "    \"\"\"    Plot images    \"\"\"\n",
    "    plt.rcParams['figure.figsize']=(s1,s2)\n",
    "    imgs=imgs.reshape([-1,28,28])\n",
    "    g, ax = plt.subplots(l1,l2)\n",
    "    for i in range(l1):\n",
    "        for j in range(l2):\n",
    "            a=i*l1+j\n",
    "            if(a>=imgs.shape[0]):\n",
    "                break\n",
    "            ax[i][j].imshow(imgs[a,:,:],cmap='summer')\n",
    "            ax[i][j].set_xticks([])\n",
    "            ax[i][j].set_yticks([])\n",
    "    plt.show()"
   ]
  },
  {
   "cell_type": "code",
   "execution_count": 3,
   "metadata": {},
   "outputs": [
    {
     "data": {
      "image/png": "[encoded data removed]",
      "text/plain": [
       "<Figure size 720x144 with 20 Axes>"
      ]
     },
     "metadata": {},
     "output_type": "display_data"
    }
   ],
   "source": [
    "n = 784\n",
    "m = 20\n",
    "data = np.load(\"imgs/mnist_100_28x28_p0.5.npy\")\n",
    "data = data[:m, :, :]\n",
    "data = torch.LongTensor(data)\n",
    "data = data.view(-1, 784)\n",
    "show_imgs(data, 2, 10, 10, 2)"
   ]
  },
  {
   "cell_type": "code",
   "execution_count": 4,
   "metadata": {},
   "outputs": [],
   "source": [
    "Dmax = 30\n",
    "bond_dims = [Dmax for i in range(n-1)] + [1]\n",
    "tensors = [torch.randn(bond_dims[-1], 2, 10, bond_dims[0])] + [torch.randn(bond_dims[i-1], 2, bond_dims[i]) for i in range(1, n)]"
   ]
  },
  {
   "cell_type": "markdown",
   "metadata": {},
   "source": [
    "## 1 - Building blocks of the Model"
   ]
  },
  {
   "cell_type": "markdown",
   "metadata": {},
   "source": [
    "## 1.1 - Forward\n",
    "\\begin{align*}\n",
    "&f^{l}(x) = \\frac{1}{m}\\sum_{i}{[A^{s_{1}}_{\\alpha_{0}\\alpha_{1}}\\cdots A^{s_{n}}_{\\alpha_{n-1}\\alpha_{n}}\\Phi^{s_{1}s_{2}\\cdots s_{n}}(x^{i})]}\\\\\n",
    "&L = \\frac{1}{m}\\sum_{i}{[f^{l}(x_{i}) - \\delta^{l}_{n}]^{2}}\n",
    "\\end{align*}"
   ]
  },
  {
   "cell_type": "code",
   "execution_count": 6,
   "metadata": {},
   "outputs": [],
   "source": [
    "def tensor_initialize(parameters):\n",
    "    \"\"\"\n",
    "    Initialize the tensor network.\n",
    "    \n",
    "    Arguments:\n",
    "    paramters -- python dictionary containing:\n",
    "                    m -- Number of samples in one batch\n",
    "                    n -- Number of features\n",
    "                    Dmax -- Bond dimensions\n",
    "                    l -- Sites of the output tensor\n",
    "    \n",
    "    Returns:\n",
    "    tensors -- MPS, list of pytorch tensors\n",
    "    \"\"\"\n",
    "    m, n, Dmax, l = parameters['m'], parameters['n'], parameters['Dmax'], parameters['l']\n",
    "    bond_dims = [Dmax for i in range(n - 1)] + [1]\n",
    "    tensors = []\n",
    "    for i in range(n):\n",
    "        if i != l:\n",
    "            tensors.append(torch.randn(bond_dims[i-1], 2, bond_dims[i]))\n",
    "        else:\n",
    "            tensors.append(torch.randn(bond_dims[i-1], 2, 10, bond_dims[i]))\n",
    "    return tensors"
   ]
  },
  {
   "cell_type": "code",
   "execution_count": 5,
   "metadata": {},
   "outputs": [],
   "source": [
    "def tnn_forward(x, l, tensors):\n",
    "    m, n = x.shape\n",
    "    psi = torch.ones([m, 1, 1])\n",
    "\n",
    "    for site in range(n):\n",
    "        if site < l:\n",
    "            psi = psi @ tensors[site][:, x[:, site], :].permute(1, 0, 2)\n",
    "        elif site == l:\n",
    "            left_psi = psi\n",
    "            right_psi = torch.ones([m, tensors[l].shape[3], tensors[l].shape[3]])\n",
    "            psi = psi @ tensors[site][:, x[:, site], :, :].permute(2, 1, 0, 3)\n",
    "        else:\n",
    "            right_psi = right_psi @ tensors[site][:, x[:, site], :].permute(1, 0, 2)\n",
    "            psi = psi @ tensors[site][:, x[:, site], :].permute(1, 0, 2)\n",
    "            \n",
    "    cache = (left_psi, right_psi, x, tensors, psi)  \n",
    "    return psi, cache"
   ]
  },
  {
   "cell_type": "code",
   "execution_count": 7,
   "metadata": {},
   "outputs": [
    {
     "name": "stdout",
     "output_type": "stream",
     "text": [
      "10\n",
      "torch.Size([5, 2, 10, 5])\n",
      "torch.Size([1, 2, 5])\n",
      "torch.Size([5, 2, 1])\n"
     ]
    }
   ],
   "source": [
    "#test for the tensor_initialize() \n",
    "torch.manual_seed(1)\n",
    "m, n, l = 5, 10, 6\n",
    "Dmax = 5\n",
    "parameters = {'m': m, 'n': n, 'Dmax': Dmax, 'l': l}\n",
    "bond_dims = [Dmax for i in range(n-1)] + [1]\n",
    "#tensors = [torch.randn(bond_dims[-1], 2, 10, bond_dims[0])] + [torch.randn(bond_dims[i-1], 2, bond_dims[i]) for i in range(1, n)]\n",
    "tensors = tensor_initialize(parameters)\n",
    "print(len(tensors))\n",
    "print(tensors[l].shape)\n",
    "print(tensors[0].shape)\n",
    "print(tensors[n-1].shape)"
   ]
  },
  {
   "cell_type": "code",
   "execution_count": 8,
   "metadata": {},
   "outputs": [
    {
     "name": "stdout",
     "output_type": "stream",
     "text": [
      "torch.Size([10, 5, 1, 1])\n",
      "torch.Size([5, 1, 5])\n",
      "torch.Size([5, 5, 1])\n"
     ]
    }
   ],
   "source": [
    "#test for tnn_forward() module\n",
    "x = torch.randint(1, (m, n))\n",
    "psi, cache = tnn_forward(x, l, tensors)\n",
    "(left_psi, right_psi) = cache\n",
    "print(psi.shape)\n",
    "print(left_psi.shape)\n",
    "print(right_psi.shape)"
   ]
  },
  {
   "cell_type": "markdown",
   "metadata": {},
   "source": [
    "## 1.2 - Backward\n",
    "\\begin{align*}\n",
    "&\\frac{\\partial{L}}{\\partial{f^{l}(x^{(i)})}} = 2(f^{l}(x_{i}) - \\delta^{l}_{n})\\\\\n",
    "&\\frac{\\partial{f^{l}(x^{(i)})}}{\\partial{A^{l}_{\\alpha_{k-1}\\alpha_{k}}}} = \\tilde{A}^{s_{1}s_{2}\\cdots s_{l-1}}_{\\alpha_{k-1}}\\tilde{B}^{s_{l+1}\\cdots s_{n}}_{\\alpha_{k}}\\Phi^{s_{1}s_{2}\\cdots s_{n}}(x^{(i)})\n",
    "\\end{align*}"
   ]
  },
  {
   "cell_type": "code",
   "execution_count": 17,
   "metadata": {},
   "outputs": [],
   "source": [
    "def tnn_cell_backward(caches, Y):\n",
    "    \"\"\"\n",
    "    Calculate the gradients of the loss function wrt mps.\n",
    "    \n",
    "    Arguments:\n",
    "    Y -- labels of the samples, pytorch tensor with dimension (m, index)\n",
    "    \n",
    "    Return:\n",
    "    dAl -- gradient of the tensor, pytorch tensor with dimension (m, index, alpha_lf, alpha_rig)\n",
    "    \n",
    "    \n",
    "    \"\"\"\n",
    "    left_psi, right_psi, x, tensors, psi = cache\n",
    "    dfl = 2 * (psi - Y)\n",
    "    dAl = dfl * (left_psi.transpose(1, 2) @ right_psi.transpose(1, 2))\n",
    "    \n",
    "    return dAl"
   ]
  },
  {
   "cell_type": "code",
   "execution_count": null,
   "metadata": {},
   "outputs": [],
   "source": [
    "#test for tnn_cell_backward() module\n"
   ]
  },
  {
   "cell_type": "code",
   "execution_count": 9,
   "metadata": {},
   "outputs": [],
   "source": [
    "x = torch.zeros(2, 3, 4)"
   ]
  },
  {
   "cell_type": "code",
   "execution_count": 12,
   "metadata": {},
   "outputs": [
    {
     "data": {
      "text/plain": [
       "torch.Size([2, 4, 3])"
      ]
     },
     "execution_count": 12,
     "metadata": {},
     "output_type": "execute_result"
    }
   ],
   "source": [
    "x.transpose(1, 2).shape"
   ]
  },
  {
   "cell_type": "code",
   "execution_count": 13,
   "metadata": {},
   "outputs": [
    {
     "data": {
      "text/plain": [
       "tensor([[2., 2.]])"
      ]
     },
     "execution_count": 13,
     "metadata": {},
     "output_type": "execute_result"
    }
   ],
   "source": [
    "2 * torch.ones(1, 2)"
   ]
  },
  {
   "cell_type": "code",
   "execution_count": 14,
   "metadata": {},
   "outputs": [],
   "source": [
    "x = torch.ones(5, 2, 2)\n",
    "y = torch.ones(10, 5, 1, 1)"
   ]
  },
  {
   "cell_type": "code",
   "execution_count": 16,
   "metadata": {},
   "outputs": [
    {
     "data": {
      "text/plain": [
       "torch.Size([10, 5, 2, 2])"
      ]
     },
     "execution_count": 16,
     "metadata": {},
     "output_type": "execute_result"
    }
   ],
   "source": [
    "(x * y).shape"
   ]
  },
  {
   "cell_type": "code",
   "execution_count": 68,
   "metadata": {},
   "outputs": [],
   "source": [
    "def one_hot(Y, index):\n",
    "    \"\"\"\n",
    "    encode the label of the training set as one hot vector.\n",
    "    \n",
    "    Arguments:\n",
    "    Y -- labels of the samples, numpy vector with dimension as (m, 1)\n",
    "    \n",
    "    Return:\n",
    "    Y_onehot -- labels of the samples, pytorch tensor with dimension as (m, index)\n",
    "    \"\"\"\n",
    "    m = Y.shape[0]\n",
    "    Y_onehot = torch.zeros(m, index, dtype=torch.int32).scatter_(1, torch.LongTensor(Y.reshape(m, 1)), torch.ones(m, index, dtype=torch.int32))\n",
    "    \n",
    "    return Y_onehot"
   ]
  },
  {
   "cell_type": "code",
   "execution_count": 70,
   "metadata": {},
   "outputs": [
    {
     "name": "stdout",
     "output_type": "stream",
     "text": [
      "[2 2 2 4 7 5 5 7 3 4]\n",
      "tensor([[0, 0, 1, 0, 0, 0, 0, 0, 0, 0],\n",
      "        [0, 0, 1, 0, 0, 0, 0, 0, 0, 0],\n",
      "        [0, 0, 1, 0, 0, 0, 0, 0, 0, 0],\n",
      "        [0, 0, 0, 0, 1, 0, 0, 0, 0, 0],\n",
      "        [0, 0, 0, 0, 0, 0, 0, 1, 0, 0],\n",
      "        [0, 0, 0, 0, 0, 1, 0, 0, 0, 0],\n",
      "        [0, 0, 0, 0, 0, 1, 0, 0, 0, 0],\n",
      "        [0, 0, 0, 0, 0, 0, 0, 1, 0, 0],\n",
      "        [0, 0, 0, 1, 0, 0, 0, 0, 0, 0],\n",
      "        [0, 0, 0, 0, 1, 0, 0, 0, 0, 0]], dtype=torch.int32)\n"
     ]
    }
   ],
   "source": [
    "#test for module one_hot()\n",
    "m, index = 10, 10\n",
    "Y = np.random.binomial(index, 0.5, m)\n",
    "Y_onehot = one_hot(Y, index)\n",
    "print(Y)\n",
    "print(Y_onehot)"
   ]
  },
  {
   "cell_type": "code",
   "execution_count": null,
   "metadata": {},
   "outputs": [],
   "source": []
  }
 ],
 "metadata": {
  "kernelspec": {
   "display_name": "Python 3",
   "language": "python",
   "name": "python3"
  },
  "language_info": {
   "codemirror_mode": {
    "name": "ipython",
    "version": 3
   },
   "file_extension": ".py",
   "mimetype": "text/x-python",
   "name": "python",
   "nbconvert_exporter": "python",
   "pygments_lexer": "ipython3",
   "version": "3.7.3"
  }
 },
 "nbformat": 4,
 "nbformat_minor": 2
}
