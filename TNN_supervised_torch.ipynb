{
 "cells": [
  {
   "cell_type": "code",
   "execution_count": 1,
   "metadata": {
    "ExecuteTime": {
     "end_time": "2019-07-13T20:09:08.752947Z",
     "start_time": "2019-07-13T20:09:07.490447Z"
    }
   },
   "outputs": [],
   "source": [
    "import numpy as np\n",
    "import torch\n",
    "import torchvision\n",
    "import torchvision.transforms as transforms\n",
    "import matplotlib.pyplot as plt\n",
    "%matplotlib inline\n",
    "import math\n",
    "import os\n",
    "from tnn_util import *"
   ]
  },
  {
   "cell_type": "markdown",
   "metadata": {},
   "source": [
    "## MNIST data import "
   ]
  },
  {
   "cell_type": "code",
   "execution_count": null,
   "metadata": {
    "ExecuteTime": {
     "end_time": "2019-07-13T20:09:08.899937Z",
     "start_time": "2019-07-13T20:09:07.821Z"
    }
   },
   "outputs": [],
   "source": [
    "transform = transforms.Compose([transforms.ToTensor(), transforms.Normalize((0.5,), (0.5,))])\n",
    "mnist_trainset = torchvision.datasets.MNIST(root=\"data\", train=True, transform=transform)\n",
    "mnist_testset = torchvision.datasets.MNIST(root=\"data\", train=False, transform=transform)"
   ]
  },
  {
   "cell_type": "code",
   "execution_count": null,
   "metadata": {
    "ExecuteTime": {
     "end_time": "2019-07-13T20:09:08.913453Z",
     "start_time": "2019-07-13T20:09:08.058Z"
    }
   },
   "outputs": [],
   "source": [
    "n_row, n_column = 4, 8\n",
    "img_show(mnist_trainset, n_row, n_column)"
   ]
  },
  {
   "cell_type": "markdown",
   "metadata": {},
   "source": [
    "## Building blocks of the Model"
   ]
  },
  {
   "cell_type": "markdown",
   "metadata": {},
   "source": [
    "### Forward\n",
    "\\begin{align*}\n",
    "&f^{l}(x) = \\frac{1}{m}\\sum_{i}{[A^{s_{1}}_{\\alpha_{0}\\alpha_{1}}\\cdots A^{s_{n}}_{\\alpha_{n-1}\\alpha_{n}}\\Phi^{s_{1}s_{2}\\cdots s_{n}}(x^{i})]}\\\\\n",
    "&L = \\frac{1}{m}\\sum_{i}{[f^{l}(x_{i}) - \\delta^{l}_{n}]^{2}}\n",
    "\\end{align*}"
   ]
  },
  {
   "cell_type": "code",
   "execution_count": 2,
   "metadata": {
    "ExecuteTime": {
     "end_time": "2019-07-13T20:09:10.436737Z",
     "start_time": "2019-07-13T20:09:10.422811Z"
    }
   },
   "outputs": [],
   "source": [
    "def tnn_cell_forward_right(X, Y, parameters):\n",
    "    m, n = X.shape\n",
    "    tensors, l = parameters['tensors'], parameters['l']\n",
    "    psi = torch.ones([m, 1, 1])\n",
    "    assert l < n-1, \"invalid l!\"\n",
    "    for site in range(l):\n",
    "        psi = psi @ tensors[site][:, X[:, site], :].permute(1, 0, 2)\n",
    "    left_psi = psi\n",
    "    psi = psi @ tensors[l][:, X[:, l], :, :].permute(2, 1, 0, 3) @ tensors[l+1][:, X[:, l+1], :].permute(1, 0, 2)\n",
    "    if l == n - 2:\n",
    "        right_psi = torch.ones([m, 1, 1])\n",
    "    else:\n",
    "        right_psi = torch.ones([m, tensors[l+1].shape[2], tensors[l+1].shape[2]])\n",
    "        for site in range(l+2, n):\n",
    "            psi = psi @ tensors[site][:, X[:, site], :].permute(1, 0, 2)\n",
    "            right_psi = right_psi @ tensors[site][:, X[:, site], :].permute(1, 0, 2)\n",
    "    cache = (left_psi, right_psi, psi)\n",
    "    loss = torch.sum(torch.pow(psi.squeeze()-Y.transpose(0, 1), 2)) / m\n",
    "    return loss, cache"
   ]
  },
  {
   "cell_type": "code",
   "execution_count": 3,
   "metadata": {
    "ExecuteTime": {
     "end_time": "2019-07-13T20:09:11.228140Z",
     "start_time": "2019-07-13T20:09:11.216091Z"
    },
    "code_folding": []
   },
   "outputs": [],
   "source": [
    "def tnn_cell_forward_left(X, Y, parameters):\n",
    "    m, n = X.shape\n",
    "    tensors, l = parameters['tensors'], parameters['l']\n",
    "    psi = torch.ones([m, 1, 1])\n",
    "    assert l > 0, \"invalid l!\"\n",
    "    for site in range(l-1):\n",
    "        psi = psi @ tensors[site][:, X[:, site], :].permute(1, 0, 2)\n",
    "    left_psi = psi\n",
    "    psi = psi @ tensors[l-1][:, X[:, l-1], :].permute(1, 0, 2) @ tensors[l][:, X[:, l], :, :].permute(2, 1, 0, 3)\n",
    "    if l == n - 1:\n",
    "        right_psi = torch.ones([m, 1, 1])\n",
    "    else:\n",
    "        right_psi = torch.ones([m, tensors[l].shape[3], tensors[l].shape[3]])\n",
    "        for site in range(l+1, n):\n",
    "            psi = psi @ tensors[site][:, X[:, site], :].permute(1, 0, 2)\n",
    "            right_psi = right_psi @ tensors[site][:, X[:, site], :].permute(1, 0, 2)\n",
    "    cache = (left_psi, right_psi, psi)\n",
    "    loss = torch.sum(torch.pow(psi.squeeze()-Y.transpose(0, 1), 2)) / m\n",
    "    return loss, cache"
   ]
  },
  {
   "cell_type": "code",
   "execution_count": 4,
   "metadata": {
    "ExecuteTime": {
     "end_time": "2019-07-13T20:09:12.188516Z",
     "start_time": "2019-07-13T20:09:12.111599Z"
    }
   },
   "outputs": [
    {
     "name": "stdout",
     "output_type": "stream",
     "text": [
      "number of sample in one batch is:  5\n",
      "number of features of one sample is:  10\n",
      "output shape is:  torch.Size([10, 5, 1, 1])\n",
      "shape of left tensor of Al is:  torch.Size([5, 1, 5])\n",
      "shape of right tensor of Al is:  torch.Size([5, 1, 1])\n",
      "the loss is:  tensor(1199639.7500)\n"
     ]
    }
   ],
   "source": [
    "#test for tnn_cell_forward_right() module\n",
    "torch.manual_seed(1)\n",
    "m, n, l, index, Dmax = 5, 10, 8, 10, 5\n",
    "parameters = {'m': m, 'n': n, 'Dmax': Dmax, 'index': 10, 'l': l}\n",
    "X = torch.randint(1, (m, n))\n",
    "Y = np.random.binomial(index, 0.5, m)\n",
    "Y_onehot = one_hot(Y, index)\n",
    "parameters = tensor_initialize(parameters)\n",
    "loss, cache = tnn_cell_forward_right(X, Y_onehot, parameters)\n",
    "(left_psi, right_psi, psi) = cache\n",
    "print(\"number of sample in one batch is: \", m)\n",
    "print(\"number of features of one sample is: \", n)\n",
    "print(\"output shape is: \", psi.shape)\n",
    "print(\"shape of left tensor of Al is: \", left_psi.shape)\n",
    "print(\"shape of right tensor of Al is: \", right_psi.shape)\n",
    "print(\"the loss is: \", loss)"
   ]
  },
  {
   "cell_type": "code",
   "execution_count": 6,
   "metadata": {
    "ExecuteTime": {
     "end_time": "2019-07-13T20:12:06.738410Z",
     "start_time": "2019-07-13T20:12:06.715185Z"
    }
   },
   "outputs": [
    {
     "name": "stdout",
     "output_type": "stream",
     "text": [
      "number of sample in one batch is:  5\n",
      "number of features of one sample is:  10\n",
      "output shape is:  torch.Size([10, 5, 1, 1])\n",
      "shape of left tensor of Al is:  torch.Size([5, 1, 5])\n",
      "shape of right tensor of Al is:  torch.Size([5, 5, 1])\n",
      "the loss is:  tensor(1199639.7500)\n"
     ]
    }
   ],
   "source": [
    "#test for tnn_cell_forward_left() moduletorch.manual_seed(1)\n",
    "torch.manual_seed(1)\n",
    "m, n, l, index, Dmax = 5, 10, 8, 10, 5\n",
    "parameters = {'m': m, 'n': n, 'Dmax': Dmax, 'index': 10, 'l': l}\n",
    "parameters = tensor_initialize(parameters)\n",
    "X = torch.randint(1, (m, n))\n",
    "loss, cache = tnn_cell_forward_left(X, Y_onehot, parameters)\n",
    "(left_psi, right_psi, psi) = cache\n",
    "print(\"number of sample in one batch is: \", m)\n",
    "print(\"number of features of one sample is: \", n)\n",
    "print(\"output shape is: \", psi.shape)\n",
    "print(\"shape of left tensor of Al is: \", left_psi.shape)\n",
    "print(\"shape of right tensor of Al is: \", right_psi.shape)\n",
    "print(\"the loss is: \", loss)"
   ]
  },
  {
   "cell_type": "markdown",
   "metadata": {},
   "source": [
    "### Backward\n",
    "\\begin{align*}\n",
    "&\\frac{\\partial{L}}{\\partial{f^{l}(x^{(i)})}} = 2(f^{l}(x_{i}) - \\delta^{l}_{n})\\\\\n",
    "&\\frac{\\partial{f^{l}(x^{(i)})}}{\\partial{B^{l,s_{k}s_{k+1}}_{\\alpha_{k-1}\\alpha_{k+1}}}} = \\tilde{A}^{s_{1}s_{2}\\cdots s_{k-1}}_{\\alpha_{k-1}}\\tilde{B}^{s_{k+2}\\cdots s_{n}}_{\\alpha_{k+1}}\\Phi^{s_{1}s_{2}\\cdots s_{n}}(x^{(i)})\n",
    "\\end{align*}"
   ]
  },
  {
   "cell_type": "code",
   "execution_count": 8,
   "metadata": {
    "ExecuteTime": {
     "end_time": "2019-07-13T20:12:39.534318Z",
     "start_time": "2019-07-13T20:12:39.520520Z"
    }
   },
   "outputs": [],
   "source": [
    "def tnn_cell_backward_right(X, Y, cache, parameters):\n",
    "    \"\"\"\n",
    "    Calculate the gradients of the loss function wrt mps.\n",
    "    \n",
    "    Arguments:\n",
    "    Y -- labels of the samples, pytorch tensor with dimension (m, index)\n",
    "    \n",
    "    Return:\n",
    "    dAl -- gradient of the tensor, pytorch tensor with dimension (m, index, alpha_lf, alpha_rig)\n",
    "    \n",
    "    \n",
    "    \"\"\"\n",
    "    left_psi, right_psi, psi = cache\n",
    "    l =  parameters['l']\n",
    "    left_index, right_index = left_psi.shape[-1], right_psi.shape[-2]\n",
    "    m = X.shape[0]\n",
    "    index = parameters['index']\n",
    "    dfl = 2 * (psi - Y.reshape_as(psi))\n",
    "    dBl_m = dfl * (left_psi.transpose(1, 2) @ right_psi.transpose(1, 2))\n",
    "    index1, index2 = (X[:, l] == 0).view(1, -1, 1, 1), (X[:, l+1] == 0).view(1, -1, 1, 1)\n",
    "    index3, index4 = 1 - index1, 1 - index2\n",
    "    dBl_1 = (dBl_m * (index1 * index2).type(torch.float)).mean(1, True)\n",
    "    dBl_2 = (dBl_m * (index1 * index4).type(torch.float)).mean(1, True)\n",
    "    dBl_3 = (dBl_m * (index3 * index2).type(torch.float)).mean(1, True)\n",
    "    dBl_4 = (dBl_m * (index3 * index4).type(torch.float)).mean(1, True)\n",
    "    dBl = torch.cat((dBl_1, dBl_2, dBl_3, dBl_4), 1).reshape(index, 2, 2, left_index, right_index)\n",
    "    \n",
    "    gradients = {'dBl': dBl}\n",
    "    return gradients"
   ]
  },
  {
   "cell_type": "code",
   "execution_count": 13,
   "metadata": {
    "ExecuteTime": {
     "end_time": "2019-07-13T20:15:00.303939Z",
     "start_time": "2019-07-13T20:15:00.294731Z"
    }
   },
   "outputs": [],
   "source": [
    "def tnn_cell_backward_left(X, Y, cache, parameters):\n",
    "    \"\"\"\n",
    "    Calculate the gradients of the loss function wrt mps.\n",
    "    \n",
    "    Arguments:\n",
    "    Y -- labels of the samples, pytorch tensor with dimension (m, index)\n",
    "    \n",
    "    Return:\n",
    "    dAl -- gradient of the tensor, pytorch tensor with dimension (m, index, alpha_lf, alpha_rig)\n",
    "    \n",
    "    \n",
    "    \"\"\"\n",
    "    left_psi, right_psi, psi = cache\n",
    "    l =  parameters['l']\n",
    "    left_index, right_index = left_psi.shape[-1], right_psi.shape[-2]\n",
    "    m = X.shape[0]\n",
    "    index = parameters['index']\n",
    "    dfl = 2 * (psi - Y.reshape_as(psi))\n",
    "    dBl_m = dfl * (left_psi.transpose(1, 2) @ right_psi.transpose(1, 2))\n",
    "    index1, index2 = (X[:, l-1] == 0).view(1, -1, 1, 1), (X[:, l] == 0).view(1, -1, 1, 1)\n",
    "    index3, index4 = 1 - index1, 1 - index2\n",
    "    dBl_1 = (dBl_m * (index1 * index2).type(torch.float)).mean(1, True)\n",
    "    dBl_2 = (dBl_m * (index1 * index4).type(torch.float)).mean(1, True)\n",
    "    dBl_3 = (dBl_m * (index3 * index2).type(torch.float)).mean(1, True)\n",
    "    dBl_4 = (dBl_m * (index3 * index4).type(torch.float)).mean(1, True)\n",
    "    dBl = torch.cat((dBl_1, dBl_2, dBl_3, dBl_4), 1).reshape(index, 2, 2, left_index, right_index)\n",
    "    \n",
    "    gradients = {'dBl': dBl}\n",
    "    return gradients"
   ]
  },
  {
   "cell_type": "code",
   "execution_count": 11,
   "metadata": {
    "ExecuteTime": {
     "end_time": "2019-07-13T20:13:21.847711Z",
     "start_time": "2019-07-13T20:13:21.825633Z"
    }
   },
   "outputs": [
    {
     "name": "stdout",
     "output_type": "stream",
     "text": [
      "shape of gradients of tensor Bl:  torch.Size([10, 2, 2, 5, 5])\n",
      "gradients:  tensor([[[[[ 15483.1270,  15483.1270,  15483.1270,  15483.1270,  15483.1270],\n",
      "           [-15765.9326, -15765.9326, -15765.9326, -15765.9326, -15765.9326],\n",
      "           [-59081.6328, -59081.6328, -59081.6328, -59081.6328, -59081.6328],\n",
      "           [ 49293.6992,  49293.6992,  49293.6992,  49293.6992,  49293.6992],\n",
      "           [ -6657.1885,  -6657.1885,  -6657.1885,  -6657.1885,  -6657.1885]],\n",
      "\n",
      "          [[     0.0000,      0.0000,      0.0000,      0.0000,      0.0000],\n",
      "           [     0.0000,      0.0000,      0.0000,      0.0000,      0.0000],\n",
      "           [     0.0000,      0.0000,      0.0000,      0.0000,      0.0000],\n",
      "           [     0.0000,      0.0000,      0.0000,      0.0000,      0.0000],\n",
      "           [     0.0000,      0.0000,      0.0000,      0.0000,      0.0000]]],\n",
      "\n",
      "\n",
      "         [[[     0.0000,      0.0000,      0.0000,      0.0000,      0.0000],\n",
      "           [     0.0000,      0.0000,      0.0000,      0.0000,      0.0000],\n",
      "           [     0.0000,      0.0000,      0.0000,      0.0000,      0.0000],\n",
      "           [     0.0000,      0.0000,      0.0000,      0.0000,      0.0000],\n",
      "           [     0.0000,      0.0000,      0.0000,      0.0000,      0.0000]],\n",
      "\n",
      "          [[     0.0000,      0.0000,      0.0000,      0.0000,      0.0000],\n",
      "           [     0.0000,      0.0000,      0.0000,      0.0000,      0.0000],\n",
      "           [     0.0000,      0.0000,      0.0000,      0.0000,      0.0000],\n",
      "           [     0.0000,      0.0000,      0.0000,      0.0000,      0.0000],\n",
      "           [     0.0000,      0.0000,      0.0000,      0.0000,      0.0000]]]],\n",
      "\n",
      "\n",
      "\n",
      "        [[[[-11300.2266, -11300.2266, -11300.2266, -11300.2266, -11300.2266],\n",
      "           [ 11506.6299,  11506.6299,  11506.6299,  11506.6299,  11506.6299],\n",
      "           [ 43120.2148,  43120.2148,  43120.2148,  43120.2148,  43120.2148],\n",
      "           [-35976.5781, -35976.5781, -35976.5781, -35976.5781, -35976.5781],\n",
      "           [  4858.6914,   4858.6914,   4858.6914,   4858.6914,   4858.6914]],\n",
      "\n",
      "          [[     0.0000,      0.0000,      0.0000,      0.0000,      0.0000],\n",
      "           [     0.0000,      0.0000,      0.0000,      0.0000,      0.0000],\n",
      "           [     0.0000,      0.0000,      0.0000,      0.0000,      0.0000],\n",
      "           [     0.0000,      0.0000,      0.0000,      0.0000,      0.0000],\n",
      "           [     0.0000,      0.0000,      0.0000,      0.0000,      0.0000]]],\n",
      "\n",
      "\n",
      "         [[[     0.0000,      0.0000,      0.0000,      0.0000,      0.0000],\n",
      "           [     0.0000,      0.0000,      0.0000,      0.0000,      0.0000],\n",
      "           [     0.0000,      0.0000,      0.0000,      0.0000,      0.0000],\n",
      "           [     0.0000,      0.0000,      0.0000,      0.0000,      0.0000],\n",
      "           [     0.0000,      0.0000,      0.0000,      0.0000,      0.0000]],\n",
      "\n",
      "          [[     0.0000,      0.0000,      0.0000,      0.0000,      0.0000],\n",
      "           [     0.0000,      0.0000,      0.0000,      0.0000,      0.0000],\n",
      "           [     0.0000,      0.0000,      0.0000,      0.0000,      0.0000],\n",
      "           [     0.0000,      0.0000,      0.0000,      0.0000,      0.0000],\n",
      "           [     0.0000,      0.0000,      0.0000,      0.0000,      0.0000]]]],\n",
      "\n",
      "\n",
      "\n",
      "        [[[[-24803.6289, -24803.6289, -24803.6289, -24803.6289, -24803.6289],\n",
      "           [ 25256.6777,  25256.6777,  25256.6777,  25256.6777,  25256.6777],\n",
      "           [ 94647.4609,  94647.4609,  94647.4609,  94647.4609,  94647.4609],\n",
      "           [-78967.4219, -78967.4219, -78967.4219, -78967.4219, -78967.4219],\n",
      "           [ 10664.6689,  10664.6689,  10664.6689,  10664.6689,  10664.6689]],\n",
      "\n",
      "          [[     0.0000,      0.0000,      0.0000,      0.0000,      0.0000],\n",
      "           [     0.0000,      0.0000,      0.0000,      0.0000,      0.0000],\n",
      "           [     0.0000,      0.0000,      0.0000,      0.0000,      0.0000],\n",
      "           [     0.0000,      0.0000,      0.0000,      0.0000,      0.0000],\n",
      "           [     0.0000,      0.0000,      0.0000,      0.0000,      0.0000]]],\n",
      "\n",
      "\n",
      "         [[[     0.0000,      0.0000,      0.0000,      0.0000,      0.0000],\n",
      "           [     0.0000,      0.0000,      0.0000,      0.0000,      0.0000],\n",
      "           [     0.0000,      0.0000,      0.0000,      0.0000,      0.0000],\n",
      "           [     0.0000,      0.0000,      0.0000,      0.0000,      0.0000],\n",
      "           [     0.0000,      0.0000,      0.0000,      0.0000,      0.0000]],\n",
      "\n",
      "          [[     0.0000,      0.0000,      0.0000,      0.0000,      0.0000],\n",
      "           [     0.0000,      0.0000,      0.0000,      0.0000,      0.0000],\n",
      "           [     0.0000,      0.0000,      0.0000,      0.0000,      0.0000],\n",
      "           [     0.0000,      0.0000,      0.0000,      0.0000,      0.0000],\n",
      "           [     0.0000,      0.0000,      0.0000,      0.0000,      0.0000]]]],\n",
      "\n",
      "\n",
      "\n",
      "        [[[[  -954.3711,   -954.3711,   -954.3711,   -954.3711,   -954.3711],\n",
      "           [   971.8030,    971.8030,    971.8030,    971.8030,    971.8030],\n",
      "           [  3641.7573,   3641.7573,   3641.7573,   3641.7573,   3641.7573],\n",
      "           [ -3038.4353,  -3038.4353,  -3038.4353,  -3038.4353,  -3038.4353],\n",
      "           [   410.3452,    410.3452,    410.3452,    410.3452,    410.3452]],\n",
      "\n",
      "          [[     0.0000,      0.0000,      0.0000,      0.0000,      0.0000],\n",
      "           [     0.0000,      0.0000,      0.0000,      0.0000,      0.0000],\n",
      "           [     0.0000,      0.0000,      0.0000,      0.0000,      0.0000],\n",
      "           [     0.0000,      0.0000,      0.0000,      0.0000,      0.0000],\n",
      "           [     0.0000,      0.0000,      0.0000,      0.0000,      0.0000]]],\n",
      "\n",
      "\n",
      "         [[[     0.0000,      0.0000,      0.0000,      0.0000,      0.0000],\n",
      "           [     0.0000,      0.0000,      0.0000,      0.0000,      0.0000],\n",
      "           [     0.0000,      0.0000,      0.0000,      0.0000,      0.0000],\n",
      "           [     0.0000,      0.0000,      0.0000,      0.0000,      0.0000],\n",
      "           [     0.0000,      0.0000,      0.0000,      0.0000,      0.0000]],\n",
      "\n",
      "          [[     0.0000,      0.0000,      0.0000,      0.0000,      0.0000],\n",
      "           [     0.0000,      0.0000,      0.0000,      0.0000,      0.0000],\n",
      "           [     0.0000,      0.0000,      0.0000,      0.0000,      0.0000],\n",
      "           [     0.0000,      0.0000,      0.0000,      0.0000,      0.0000],\n",
      "           [     0.0000,      0.0000,      0.0000,      0.0000,      0.0000]]]],\n",
      "\n",
      "\n",
      "\n",
      "        [[[[ -1120.5166,  -1120.5166,  -1120.5166,  -1120.5166,  -1120.5166],\n",
      "           [  1140.9834,   1140.9834,   1140.9834,   1140.9834,   1140.9834],\n",
      "           [  4275.7476,   4275.7476,   4275.7476,   4275.7476,   4275.7476],\n",
      "           [ -3567.3938,  -3567.3938,  -3567.3938,  -3567.3938,  -3567.3938],\n",
      "           [   481.7819,    481.7819,    481.7819,    481.7819,    481.7819]],\n",
      "\n",
      "          [[     0.0000,      0.0000,      0.0000,      0.0000,      0.0000],\n",
      "           [     0.0000,      0.0000,      0.0000,      0.0000,      0.0000],\n",
      "           [     0.0000,      0.0000,      0.0000,      0.0000,      0.0000],\n",
      "           [     0.0000,      0.0000,      0.0000,      0.0000,      0.0000],\n",
      "           [     0.0000,      0.0000,      0.0000,      0.0000,      0.0000]]],\n",
      "\n",
      "\n",
      "         [[[     0.0000,      0.0000,      0.0000,      0.0000,      0.0000],\n",
      "           [     0.0000,      0.0000,      0.0000,      0.0000,      0.0000],\n",
      "           [     0.0000,      0.0000,      0.0000,      0.0000,      0.0000],\n",
      "           [     0.0000,      0.0000,      0.0000,      0.0000,      0.0000],\n",
      "           [     0.0000,      0.0000,      0.0000,      0.0000,      0.0000]],\n",
      "\n",
      "          [[     0.0000,      0.0000,      0.0000,      0.0000,      0.0000],\n",
      "           [     0.0000,      0.0000,      0.0000,      0.0000,      0.0000],\n",
      "           [     0.0000,      0.0000,      0.0000,      0.0000,      0.0000],\n",
      "           [     0.0000,      0.0000,      0.0000,      0.0000,      0.0000],\n",
      "           [     0.0000,      0.0000,      0.0000,      0.0000,      0.0000]]]],\n",
      "\n",
      "\n",
      "\n",
      "        [[[[  7151.2241,   7151.2241,   7151.2241,   7151.2241,   7151.2241],\n",
      "           [ -7281.8447,  -7281.8447,  -7281.8447,  -7281.8447,  -7281.8447],\n",
      "           [-27288.1523, -27288.1523, -27288.1523, -27288.1523, -27288.1523],\n",
      "           [ 22767.3848,  22767.3848,  22767.3848,  22767.3848,  22767.3848],\n",
      "           [ -3074.7695,  -3074.7695,  -3074.7695,  -3074.7695,  -3074.7695]],\n",
      "\n",
      "          [[     0.0000,      0.0000,      0.0000,      0.0000,      0.0000],\n",
      "           [     0.0000,      0.0000,      0.0000,      0.0000,      0.0000],\n",
      "           [     0.0000,      0.0000,      0.0000,      0.0000,      0.0000],\n",
      "           [     0.0000,      0.0000,      0.0000,      0.0000,      0.0000],\n",
      "           [     0.0000,      0.0000,      0.0000,      0.0000,      0.0000]]],\n",
      "\n",
      "\n",
      "         [[[     0.0000,      0.0000,      0.0000,      0.0000,      0.0000],\n",
      "           [     0.0000,      0.0000,      0.0000,      0.0000,      0.0000],\n",
      "           [     0.0000,      0.0000,      0.0000,      0.0000,      0.0000],\n",
      "           [     0.0000,      0.0000,      0.0000,      0.0000,      0.0000],\n",
      "           [     0.0000,      0.0000,      0.0000,      0.0000,      0.0000]],\n",
      "\n",
      "          [[     0.0000,      0.0000,      0.0000,      0.0000,      0.0000],\n",
      "           [     0.0000,      0.0000,      0.0000,      0.0000,      0.0000],\n",
      "           [     0.0000,      0.0000,      0.0000,      0.0000,      0.0000],\n",
      "           [     0.0000,      0.0000,      0.0000,      0.0000,      0.0000],\n",
      "           [     0.0000,      0.0000,      0.0000,      0.0000,      0.0000]]]],\n",
      "\n",
      "\n",
      "\n",
      "        [[[[  3258.9541,   3258.9541,   3258.9541,   3258.9541,   3258.9541],\n",
      "           [ -3318.4805,  -3318.4805,  -3318.4805,  -3318.4805,  -3318.4805],\n",
      "           [-12435.7510, -12435.7510, -12435.7510, -12435.7510, -12435.7510],\n",
      "           [ 10375.5469,  10375.5469,  10375.5469,  10375.5469,  10375.5469],\n",
      "           [ -1401.2332,  -1401.2332,  -1401.2332,  -1401.2332,  -1401.2332]],\n",
      "\n",
      "          [[     0.0000,      0.0000,      0.0000,      0.0000,      0.0000],\n",
      "           [     0.0000,      0.0000,      0.0000,      0.0000,      0.0000],\n",
      "           [     0.0000,      0.0000,      0.0000,      0.0000,      0.0000],\n",
      "           [     0.0000,      0.0000,      0.0000,      0.0000,      0.0000],\n",
      "           [     0.0000,      0.0000,      0.0000,      0.0000,      0.0000]]],\n",
      "\n",
      "\n",
      "         [[[     0.0000,      0.0000,      0.0000,      0.0000,      0.0000],\n",
      "           [     0.0000,      0.0000,      0.0000,      0.0000,      0.0000],\n",
      "           [     0.0000,      0.0000,      0.0000,      0.0000,      0.0000],\n",
      "           [     0.0000,      0.0000,      0.0000,      0.0000,      0.0000],\n",
      "           [     0.0000,      0.0000,      0.0000,      0.0000,      0.0000]],\n",
      "\n",
      "          [[     0.0000,      0.0000,      0.0000,      0.0000,      0.0000],\n",
      "           [     0.0000,      0.0000,      0.0000,      0.0000,      0.0000],\n",
      "           [     0.0000,      0.0000,      0.0000,      0.0000,      0.0000],\n",
      "           [     0.0000,      0.0000,      0.0000,      0.0000,      0.0000],\n",
      "           [     0.0000,      0.0000,      0.0000,      0.0000,      0.0000]]]],\n",
      "\n",
      "\n",
      "\n",
      "        [[[[ -3071.7083,  -3071.7083,  -3071.7083,  -3071.7083,  -3071.7083],\n",
      "           [  3127.8140,   3127.8140,   3127.8140,   3127.8140,   3127.8140],\n",
      "           [ 11721.2441,  11721.2441,  11721.2441,  11721.2441,  11721.2441],\n",
      "           [ -9779.4102,  -9779.4102,  -9779.4102,  -9779.4102,  -9779.4102],\n",
      "           [  1320.7241,   1320.7241,   1320.7241,   1320.7241,   1320.7241]],\n",
      "\n",
      "          [[     0.0000,      0.0000,      0.0000,      0.0000,      0.0000],\n",
      "           [     0.0000,      0.0000,      0.0000,      0.0000,      0.0000],\n",
      "           [     0.0000,      0.0000,      0.0000,      0.0000,      0.0000],\n",
      "           [     0.0000,      0.0000,      0.0000,      0.0000,      0.0000],\n",
      "           [     0.0000,      0.0000,      0.0000,      0.0000,      0.0000]]],\n",
      "\n",
      "\n",
      "         [[[     0.0000,      0.0000,      0.0000,      0.0000,      0.0000],\n",
      "           [     0.0000,      0.0000,      0.0000,      0.0000,      0.0000],\n",
      "           [     0.0000,      0.0000,      0.0000,      0.0000,      0.0000],\n",
      "           [     0.0000,      0.0000,      0.0000,      0.0000,      0.0000],\n",
      "           [     0.0000,      0.0000,      0.0000,      0.0000,      0.0000]],\n",
      "\n",
      "          [[     0.0000,      0.0000,      0.0000,      0.0000,      0.0000],\n",
      "           [     0.0000,      0.0000,      0.0000,      0.0000,      0.0000],\n",
      "           [     0.0000,      0.0000,      0.0000,      0.0000,      0.0000],\n",
      "           [     0.0000,      0.0000,      0.0000,      0.0000,      0.0000],\n",
      "           [     0.0000,      0.0000,      0.0000,      0.0000,      0.0000]]]],\n",
      "\n",
      "\n",
      "\n",
      "        [[[[   314.8322,    314.8322,    314.8322,    314.8322,    314.8322],\n",
      "           [  -320.5827,   -320.5827,   -320.5827,   -320.5827,   -320.5827],\n",
      "           [ -1201.3591,  -1201.3591,  -1201.3591,  -1201.3591,  -1201.3591],\n",
      "           [  1002.3325,   1002.3325,   1002.3325,   1002.3325,   1002.3325],\n",
      "           [  -135.3665,   -135.3665,   -135.3665,   -135.3665,   -135.3665]],\n",
      "\n",
      "          [[     0.0000,      0.0000,      0.0000,      0.0000,      0.0000],\n",
      "           [     0.0000,      0.0000,      0.0000,      0.0000,      0.0000],\n",
      "           [     0.0000,      0.0000,      0.0000,      0.0000,      0.0000],\n",
      "           [     0.0000,      0.0000,      0.0000,      0.0000,      0.0000],\n",
      "           [     0.0000,      0.0000,      0.0000,      0.0000,      0.0000]]],\n",
      "\n",
      "\n",
      "         [[[     0.0000,      0.0000,      0.0000,      0.0000,      0.0000],\n",
      "           [     0.0000,      0.0000,      0.0000,      0.0000,      0.0000],\n",
      "           [     0.0000,      0.0000,      0.0000,      0.0000,      0.0000],\n",
      "           [     0.0000,      0.0000,      0.0000,      0.0000,      0.0000],\n",
      "           [     0.0000,      0.0000,      0.0000,      0.0000,      0.0000]],\n",
      "\n",
      "          [[     0.0000,      0.0000,      0.0000,      0.0000,      0.0000],\n",
      "           [     0.0000,      0.0000,      0.0000,      0.0000,      0.0000],\n",
      "           [     0.0000,      0.0000,      0.0000,      0.0000,      0.0000],\n",
      "           [     0.0000,      0.0000,      0.0000,      0.0000,      0.0000],\n",
      "           [     0.0000,      0.0000,      0.0000,      0.0000,      0.0000]]]],\n",
      "\n",
      "\n",
      "\n",
      "        [[[[   863.0128,    863.0128,    863.0128,    863.0128,    863.0128],\n",
      "           [  -878.7761,   -878.7761,   -878.7761,   -878.7761,   -878.7761],\n",
      "           [ -3293.1460,  -3293.1460,  -3293.1460,  -3293.1460,  -3293.1460],\n",
      "           [  2747.5774,   2747.5774,   2747.5774,   2747.5774,   2747.5774],\n",
      "           [  -371.0645,   -371.0645,   -371.0645,   -371.0645,   -371.0645]],\n",
      "\n",
      "          [[     0.0000,      0.0000,      0.0000,      0.0000,      0.0000],\n",
      "           [     0.0000,      0.0000,      0.0000,      0.0000,      0.0000],\n",
      "           [     0.0000,      0.0000,      0.0000,      0.0000,      0.0000],\n",
      "           [     0.0000,      0.0000,      0.0000,      0.0000,      0.0000],\n",
      "           [     0.0000,      0.0000,      0.0000,      0.0000,      0.0000]]],\n",
      "\n",
      "\n",
      "         [[[     0.0000,      0.0000,      0.0000,      0.0000,      0.0000],\n",
      "           [     0.0000,      0.0000,      0.0000,      0.0000,      0.0000],\n",
      "           [     0.0000,      0.0000,      0.0000,      0.0000,      0.0000],\n",
      "           [     0.0000,      0.0000,      0.0000,      0.0000,      0.0000],\n",
      "           [     0.0000,      0.0000,      0.0000,      0.0000,      0.0000]],\n",
      "\n",
      "          [[     0.0000,      0.0000,      0.0000,      0.0000,      0.0000],\n",
      "           [     0.0000,      0.0000,      0.0000,      0.0000,      0.0000],\n",
      "           [     0.0000,      0.0000,      0.0000,      0.0000,      0.0000],\n",
      "           [     0.0000,      0.0000,      0.0000,      0.0000,      0.0000],\n",
      "           [     0.0000,      0.0000,      0.0000,      0.0000,      0.0000]]]]])\n"
     ]
    }
   ],
   "source": [
    "#test for tnn_cell_backward_right()\n",
    "gradients = tnn_cell_backward_right(X, Y_onehot, cache, parameters)\n",
    "dBl = gradients['dBl']\n",
    "print(\"shape of gradients of tensor Bl: \", dBl.shape)\n",
    "print(\"gradients: \", dBl)"
   ]
  },
  {
   "cell_type": "code",
   "execution_count": 14,
   "metadata": {
    "ExecuteTime": {
     "end_time": "2019-07-13T20:15:01.953693Z",
     "start_time": "2019-07-13T20:15:01.941406Z"
    }
   },
   "outputs": [
    {
     "name": "stdout",
     "output_type": "stream",
     "text": [
      "gradients of tensor Bl:  torch.Size([10, 2, 2, 5, 5])\n"
     ]
    }
   ],
   "source": [
    "#test for tnn_cell_backward_left()\n",
    "gradients = tnn_cell_backward_left(X, Y_onehot, cache, parameters)\n",
    "dBl = gradients['dBl']\n",
    "print(\"gradients of tensor Bl: \", dBl.shape)"
   ]
  },
  {
   "cell_type": "markdown",
   "metadata": {},
   "source": [
    "\\begin{align*}\n",
    "\\Delta B^{l,s_{k-1}s_{k}}_{\\alpha_{k-1}\\alpha_{k+1}}\\to\n",
    "\\begin{bmatrix}\n",
    "B^{l,x_{m}}_{\\alpha_{k-1}\\alpha_{k+1}}\\\\\n",
    "\\cdots\\\\\n",
    "B^{l,x_{n}}_{\\alpha_{k-1}\\alpha_{k+1}}\n",
    "\\end{bmatrix}\n",
    "\\end{align*}"
   ]
  },
  {
   "cell_type": "code",
   "execution_count": 15,
   "metadata": {
    "ExecuteTime": {
     "end_time": "2019-07-13T20:15:39.217413Z",
     "start_time": "2019-07-13T20:15:39.205577Z"
    }
   },
   "outputs": [],
   "source": [
    "def update_parameters_right(X, parameters, gradients, bond, learning_rate):\n",
    "    \n",
    "    m, n, index, tensors, l = parameters['m'], parameters['n'], parameters['index'], parameters['tensors'], parameters['l']\n",
    "    assert l < n, \"invalid l\"\n",
    "    dBl = gradients['dBl']\n",
    "    Bl = tensors[l].permute(2, 1, 0, 3).unsqueeze(2) @ tensors[l+1].permute(1, 0, 2).unsqueeze(0)\n",
    "    Bl +=  dBl\n",
    "    alpha_left, alpha_right = dBl.shape[-2], dBl.shape[-1]\n",
    "    u, s, vt = torch.svd(Bl.permute(1, 3, 0, 2, 4).contiguous().view(2*alpha_left, 2*alpha_right*index))\n",
    "    tensors[l] = ((u * s).split(bond, 1)[0]).reshape(2, alpha_left, bond).permute(1, 0, 2)\n",
    "    tensors[l+1] = (((vt.transpose(0, 1)).split(bond, 0))[0]).reshape(bond, index, 2, alpha_right).permute(0, 2, 1, 3)\n",
    "    parameters['l'] = l + 1      \n",
    "    \n",
    "    return parameters  "
   ]
  },
  {
   "cell_type": "code",
   "execution_count": 16,
   "metadata": {
    "ExecuteTime": {
     "end_time": "2019-07-13T20:15:40.189187Z",
     "start_time": "2019-07-13T20:15:40.173670Z"
    }
   },
   "outputs": [],
   "source": [
    "def update_parameters_left(X, parameters, gradients, bond, learning_rate):\n",
    "    \n",
    "    m, n, index, tensors, l = parameters['m'], parameters['n'], parameters['index'], parameters['tensors'], parameters['l']\n",
    "    assert l > 0, \"invalid l\"\n",
    "    dBl = gradients['dBl']\n",
    "    Bl = tensors[l-1].permute(1, 0, 2).unsqueeze(0) @ tensors[l].permute(2, 1, 0, 3).unsqueeze(2)\n",
    "    Bl +=  dBl\n",
    "    alpha_left, alpha_right = dBl.shape[-2], dBl.shape[-1]\n",
    "    u, s, vt = torch.svd(Bl.permute(1, 3, 0, 2, 4).contiguous().view(2*alpha_left*index, 2*alpha_right))\n",
    "    tensors[l-1] = ((u * s).split(bond, 1)[0]).reshape(2, alpha_left, index, bond).permute(1, 0, 2, 3)\n",
    "    tensors[l] = (((vt.transpose(0, 1)).split(bond, 0))[0]).reshape(bond, 2, alpha_right)\n",
    "    parameters['l'] = l - 1\n",
    "    \n",
    "    return parameters  "
   ]
  },
  {
   "cell_type": "code",
   "execution_count": 23,
   "metadata": {
    "ExecuteTime": {
     "end_time": "2019-07-13T20:21:42.380738Z",
     "start_time": "2019-07-13T20:21:42.344839Z"
    }
   },
   "outputs": [
    {
     "name": "stdout",
     "output_type": "stream",
     "text": [
      "shape of updated A^{l} tensor:  torch.Size([5, 2, 1])\n",
      "shape updated A^{l+1} tensor:  torch.Size([1, 2, 10, 1])\n",
      "torch.Size([1, 2, 5])\n",
      "torch.Size([5, 2, 5])\n",
      "torch.Size([5, 2, 5])\n",
      "torch.Size([5, 2, 5])\n",
      "torch.Size([5, 2, 5])\n",
      "torch.Size([5, 2, 5])\n",
      "torch.Size([5, 2, 5])\n",
      "torch.Size([5, 2, 5])\n",
      "torch.Size([5, 2, 1])\n",
      "torch.Size([1, 2, 10, 1])\n",
      "updated A^{l} tensor:  tensor([[[-2.3843e+05],\n",
      "         [-3.0572e+00]],\n",
      "\n",
      "        [[ 1.2076e+05],\n",
      "         [ 7.7538e-01]],\n",
      "\n",
      "        [[ 2.0961e+04],\n",
      "         [ 2.7604e+00]],\n",
      "\n",
      "        [[ 2.6769e+04],\n",
      "         [-2.5266e+00]],\n",
      "\n",
      "        [[ 4.2997e+04],\n",
      "         [ 2.0369e+00]]])\n"
     ]
    }
   ],
   "source": [
    "#test for update_parameters_right()\n",
    "torch.manual_seed(1)\n",
    "m, n, l, index, Dmax = 5, 10, 8, 10, 5\n",
    "parameters = {'m': m, 'n': n, 'Dmax': Dmax, 'index': 10, 'l': l}\n",
    "parameters = tensor_initialize(parameters)\n",
    "X = torch.randint(1, (m, n))\n",
    "Y = np.random.binomial(index, 0.5, m)\n",
    "Y_onehot = one_hot(Y, index)\n",
    "loss, cache = tnn_cell_forward_right(X, Y_onehot, parameters)\n",
    "(left_psi, right_psi, psi) = cache\n",
    "gradients = tnn_cell_backward_right(X, Y_onehot, cache, parameters)\n",
    "bond, learning_rate, n = 1, 0.01, parameters['n']\n",
    "parameters = update_parameters_right(X, parameters, gradients, bond, learning_rate)\n",
    "tensors = parameters['tensors']\n",
    "print(\"shape of updated A^{l} tensor: \", tensors[l].shape)\n",
    "print(\"shape updated A^{l+1} tensor: \", tensors[l+1].shape)\n",
    "for i in range(n):\n",
    "    print(tensors[i].shape)\n",
    "print(\"updated A^{l} tensor: \", tensors[l])"
   ]
  },
  {
   "cell_type": "code",
   "execution_count": 25,
   "metadata": {
    "ExecuteTime": {
     "end_time": "2019-07-13T20:27:52.219419Z",
     "start_time": "2019-07-13T20:27:52.188301Z"
    }
   },
   "outputs": [
    {
     "name": "stdout",
     "output_type": "stream",
     "text": [
      "shape of updated A^{l} tensor:  torch.Size([1, 2, 5])\n",
      "updated A^{l+1} tensor:  torch.Size([5, 2, 1])\n",
      "torch.Size([1, 2, 5])\n",
      "torch.Size([5, 2, 5])\n",
      "torch.Size([5, 2, 5])\n",
      "torch.Size([5, 2, 5])\n",
      "torch.Size([5, 2, 5])\n",
      "torch.Size([5, 2, 5])\n",
      "torch.Size([5, 2, 5])\n",
      "torch.Size([5, 2, 10, 1])\n",
      "torch.Size([1, 2, 5])\n",
      "torch.Size([5, 2, 1])\n",
      "updated A^{l-1} tensor:  tensor([[[[-3.4609e+04],\n",
      "          [ 2.5256e+04],\n",
      "          [ 5.5462e+04],\n",
      "          [ 2.1331e+03],\n",
      "          [ 2.4942e+03],\n",
      "          [-1.5979e+04],\n",
      "          [-7.2860e+03],\n",
      "          [ 6.8688e+03],\n",
      "          [-7.0446e+02],\n",
      "          [-1.9305e+03]],\n",
      "\n",
      "         [[ 7.8618e-01],\n",
      "          [-1.4138e-01],\n",
      "          [ 5.1087e-01],\n",
      "          [-1.5073e+00],\n",
      "          [-3.7320e-01],\n",
      "          [-8.1169e-02],\n",
      "          [ 5.2479e-01],\n",
      "          [-1.6942e-01],\n",
      "          [-7.9196e-01],\n",
      "          [ 7.2287e-02]]],\n",
      "\n",
      "\n",
      "        [[[ 3.5239e+04],\n",
      "          [-2.5714e+04],\n",
      "          [-5.6474e+04],\n",
      "          [-2.1747e+03],\n",
      "          [-2.5366e+03],\n",
      "          [ 1.6267e+04],\n",
      "          [ 7.4221e+03],\n",
      "          [-6.9940e+03],\n",
      "          [ 7.1834e+02],\n",
      "          [ 1.9648e+03]],\n",
      "\n",
      "         [[-1.1676e+00],\n",
      "          [ 2.8941e-01],\n",
      "          [-1.9772e-01],\n",
      "          [-5.3576e-01],\n",
      "          [-1.2044e+00],\n",
      "          [-2.5213e+00],\n",
      "          [ 7.3134e-01],\n",
      "          [-1.0207e+00],\n",
      "          [-9.9910e-01],\n",
      "          [-1.3626e+00]]],\n",
      "\n",
      "\n",
      "        [[[ 1.3206e+05],\n",
      "          [-9.6369e+04],\n",
      "          [-2.1164e+05],\n",
      "          [-8.1405e+03],\n",
      "          [-9.5090e+03],\n",
      "          [ 6.0967e+04],\n",
      "          [ 2.7807e+04],\n",
      "          [-2.6210e+04],\n",
      "          [ 2.6855e+03],\n",
      "          [ 7.3659e+03]],\n",
      "\n",
      "         [[ 2.8106e-01],\n",
      "          [ 1.1744e+00],\n",
      "          [ 2.2110e+00],\n",
      "          [-7.1878e-01],\n",
      "          [-1.8124e+00],\n",
      "          [ 4.8774e+00],\n",
      "          [ 2.4208e+00],\n",
      "          [-4.1946e+00],\n",
      "          [ 2.0667e+00],\n",
      "          [ 5.6659e-01]]],\n",
      "\n",
      "\n",
      "        [[[-1.1018e+05],\n",
      "          [ 8.0399e+04],\n",
      "          [ 1.7658e+05],\n",
      "          [ 6.7958e+03],\n",
      "          [ 7.9318e+03],\n",
      "          [-5.0867e+04],\n",
      "          [-2.3201e+04],\n",
      "          [ 2.1869e+04],\n",
      "          [-2.2425e+03],\n",
      "          [-6.1462e+03]],\n",
      "\n",
      "         [[-1.7080e+00],\n",
      "          [ 4.5977e+00],\n",
      "          [ 3.3290e-01],\n",
      "          [ 2.4168e+00],\n",
      "          [ 5.5604e+00],\n",
      "          [-1.9328e+00],\n",
      "          [-2.8224e-01],\n",
      "          [ 3.0024e+00],\n",
      "          [-1.9587e+00],\n",
      "          [-1.8373e+00]]],\n",
      "\n",
      "\n",
      "        [[[ 1.4881e+04],\n",
      "          [-1.0857e+04],\n",
      "          [-2.3850e+04],\n",
      "          [-9.1682e+02],\n",
      "          [-1.0714e+03],\n",
      "          [ 6.8700e+03],\n",
      "          [ 3.1335e+03],\n",
      "          [-2.9545e+03],\n",
      "          [ 3.0333e+02],\n",
      "          [ 8.3166e+02]],\n",
      "\n",
      "         [[ 2.5665e-02],\n",
      "          [-7.9833e-01],\n",
      "          [ 6.0096e-01],\n",
      "          [-6.2604e-01],\n",
      "          [-1.3078e+00],\n",
      "          [ 1.5814e+00],\n",
      "          [ 5.4703e-01],\n",
      "          [-1.8372e+00],\n",
      "          [ 7.7916e-01],\n",
      "          [ 1.2888e+00]]]])\n"
     ]
    }
   ],
   "source": [
    "#test for update_parameters_left()\n",
    "torch.manual_seed(1)\n",
    "m, n, l, index, Dmax = 5, 10, 8, 10, 5\n",
    "parameters = {'m': m, 'n': n, 'Dmax': Dmax, 'index': 10, 'l': l}\n",
    "parameters = tensor_initialize(parameters)\n",
    "X = torch.randint(1, (m, n))\n",
    "Y = np.random.binomial(index, 0.5, m)\n",
    "Y_onehot = one_hot(Y, index)\n",
    "loss, cache = tnn_cell_forward_left(X, Y_onehot, parameters)\n",
    "(left_psi, right_psi, psi) = cache\n",
    "gradients = tnn_cell_backward_left(X, Y_onehot, cache, parameters)\n",
    "bond, learning_rate, n = 1, 0.01, parameters['n']\n",
    "parameters = update_parameters_left(X, parameters, gradients, bond, learning_rate)\n",
    "tensors = parameters['tensors']\n",
    "print(\"shape of updated A^{l} tensor: \", tensors[l].shape)\n",
    "print(\"updated A^{l+1} tensor: \", tensors[l+1].shape)\n",
    "for i in range(n):\n",
    "    print(tensors[i].shape)\n",
    "print(\"updated A^{l-1} tensor: \", tensors[l-1])"
   ]
  },
  {
   "cell_type": "code",
   "execution_count": 163,
   "metadata": {
    "ExecuteTime": {
     "end_time": "2019-07-12T08:51:04.509883Z",
     "start_time": "2019-07-12T08:51:04.504895Z"
    }
   },
   "outputs": [],
   "source": [
    "def optimize(X, Y, parameters, bond, learning_rate=0.01):\n",
    "    \n",
    "    n, l, Dmax = parameters['n'], parameters['l'], parameters['Dmax']\n",
    "    parameters = tensor_initialize(n, Dmax, l, parameters)\n",
    "    for i in range(l, n-1):\n",
    "        loss, cache = tnn_cell_forward_right(X, Y, parameters)\n",
    "        gradients = tnn_cell_backward_right(X, Y, cache, parameters)\n",
    "        parameters = update_parameters_right(X, parameters, gradients, bond, learning_rate)\n",
    "    for i in range(n, 1, -1):\n",
    "        loss, cache = tnn_cell_forward_left(X, Y, parameters)\n",
    "        gradients = tnn_cell_backward_left(X, Y, cache, parameters)\n",
    "        parameters = update_parameters_left(X, parameters, gradients, bond, learning_rate)\n",
    "        \n",
    "    return parameters, loss, gradients"
   ]
  },
  {
   "cell_type": "code",
   "execution_count": 164,
   "metadata": {
    "ExecuteTime": {
     "end_time": "2019-07-12T08:45:16.529294Z",
     "start_time": "2019-07-12T08:45:16.509358Z"
    }
   },
   "outputs": [
    {
     "name": "stdout",
     "output_type": "stream",
     "text": [
      "torch.Size([1, 2, 10, 1])\n",
      "torch.Size([1, 2, 1])\n",
      "torch.Size([1, 2, 1])\n",
      "torch.Size([1, 2, 1])\n",
      "torch.Size([1, 2, 1])\n",
      "torch.Size([1, 2, 1])\n",
      "torch.Size([1, 2, 1])\n",
      "torch.Size([1, 2, 1])\n",
      "torch.Size([1, 2, 1])\n",
      "torch.Size([1, 2, 1])\n",
      "torch.Size([10, 2, 2, 1, 1])\n"
     ]
    }
   ],
   "source": [
    "#test for optimize()\n",
    "torch.manual_seed(1)\n",
    "m, n, l, index, Dmax, bond = 5, 10, 8, 10, 5, 1\n",
    "X = torch.randint(1, (m, n))\n",
    "Y = np.random.binomial(index, 0.5, m)\n",
    "Y_onehot = one_hot(Y, index)\n",
    "parameters = {'m': m, 'n': n, 'Dmax': Dmax, 'index': 10, 'l': l}\n",
    "parameters, loss, gradients = optimize(X, Y_onehot, parameters, bond, learning_rate)\n",
    "n, tensors = parameters['n'], parameters['tensors']\n",
    "dAl = gradients['dBl']\n",
    "for i in range(n):\n",
    "    print(parameters['tensors'][i].shape)\n",
    "print(dAl.shape)"
   ]
  },
  {
   "cell_type": "code",
   "execution_count": 4,
   "metadata": {
    "ExecuteTime": {
     "end_time": "2019-07-13T20:00:45.406044Z",
     "start_time": "2019-07-13T20:00:45.393150Z"
    }
   },
   "outputs": [
    {
     "data": {
      "text/plain": [
       "tensor([[-0.1933, -0.1127],\n",
       "        [-2.2094, -0.4317],\n",
       "        [ 0.0459,  0.8920],\n",
       "        [ 0.6183,  1.0933],\n",
       "        [ 0.2289, -1.2077]])"
      ]
     },
     "execution_count": 4,
     "metadata": {},
     "output_type": "execute_result"
    }
   ],
   "source": [
    "x = torch.randn(5, 2)\n",
    "x"
   ]
  },
  {
   "cell_type": "code",
   "execution_count": 3,
   "metadata": {
    "ExecuteTime": {
     "end_time": "2019-07-13T19:58:02.562432Z",
     "start_time": "2019-07-13T19:58:02.524926Z"
    }
   },
   "outputs": [
    {
     "data": {
      "text/plain": [
       "tensor(3.4386)"
      ]
     },
     "execution_count": 3,
     "metadata": {},
     "output_type": "execute_result"
    }
   ],
   "source": [
    "x.norm()"
   ]
  },
  {
   "cell_type": "code",
   "execution_count": null,
   "metadata": {},
   "outputs": [],
   "source": []
  },
  {
   "cell_type": "code",
   "execution_count": null,
   "metadata": {},
   "outputs": [],
   "source": []
  }
 ],
 "metadata": {
  "kernelspec": {
   "display_name": "Python 3",
   "language": "python",
   "name": "python3"
  },
  "language_info": {
   "codemirror_mode": {
    "name": "ipython",
    "version": 3
   },
   "file_extension": ".py",
   "mimetype": "text/x-python",
   "name": "python",
   "nbconvert_exporter": "python",
   "pygments_lexer": "ipython3",
   "version": "3.6.5"
  },
  "latex_envs": {
   "LaTeX_envs_menu_present": true,
   "autoclose": true,
   "autocomplete": true,
   "bibliofile": "biblio.bib",
   "cite_by": "apalike",
   "current_citInitial": 1,
   "eqLabelWithNumbers": true,
   "eqNumInitial": 1,
   "hotkeys": {
    "equation": "Ctrl-E",
    "itemize": "Ctrl-I"
   },
   "labels_anchors": false,
   "latex_user_defs": false,
   "report_style_numbering": false,
   "user_envs_cfg": false
  },
  "toc": {
   "base_numbering": 1,
   "nav_menu": {
    "height": "139px",
    "width": "160px"
   },
   "number_sections": true,
   "sideBar": true,
   "skip_h1_title": false,
   "title_cell": "Table of Contents",
   "title_sidebar": "Contents",
   "toc_cell": false,
   "toc_position": {},
   "toc_section_display": true,
   "toc_window_display": true
  },
  "varInspector": {
   "cols": {
    "lenName": 16,
    "lenType": 16,
    "lenVar": 40
   },
   "kernels_config": {
    "python": {
     "delete_cmd_postfix": "",
     "delete_cmd_prefix": "del ",
     "library": "var_list.py",
     "varRefreshCmd": "print(var_dic_list())"
    },
    "r": {
     "delete_cmd_postfix": ") ",
     "delete_cmd_prefix": "rm(",
     "library": "var_list.r",
     "varRefreshCmd": "cat(var_dic_list()) "
    }
   },
   "types_to_exclude": [
    "module",
    "function",
    "builtin_function_or_method",
    "instance",
    "_Feature"
   ],
   "window_display": false
  }
 },
 "nbformat": 4,
 "nbformat_minor": 2
}
